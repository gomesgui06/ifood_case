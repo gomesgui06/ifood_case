{
 "cells": [
  {
   "cell_type": "code",
   "execution_count": 43,
   "id": "775f5f97",
   "metadata": {},
   "outputs": [],
   "source": [
    "import joblib\n",
    "import pandas as pd\n",
    "import numpy as np\n",
    "import matplotlib.pyplot as plt\n",
    "import seaborn as sns\n",
    "from datetime import datetime\n",
    "from sklearn import preprocessing\n",
    "from sklearn.model_selection import train_test_split\n",
    "from sklearn.metrics import confusion_matrix, plot_confusion_matrix, classification_report\n",
    "from sklearn.linear_model import LogisticRegression\n",
    "from sklearn.neighbors import KNeighborsClassifier\n",
    "from sklearn.tree import DecisionTreeClassifier\n",
    "from sklearn.ensemble import RandomForestClassifier\n",
    "\n",
    "seed = 42\n",
    "pd.set_option('display.max_columns', None)"
   ]
  },
  {
   "cell_type": "code",
   "execution_count": 14,
   "id": "2628c856",
   "metadata": {},
   "outputs": [],
   "source": [
    "df = pd.read_csv('datalake/refined/df_refined.csv')"
   ]
  },
  {
   "cell_type": "code",
   "execution_count": 20,
   "id": "fb10397c",
   "metadata": {},
   "outputs": [
    {
     "data": {
      "text/html": [
       "<div>\n",
       "<style scoped>\n",
       "    .dataframe tbody tr th:only-of-type {\n",
       "        vertical-align: middle;\n",
       "    }\n",
       "\n",
       "    .dataframe tbody tr th {\n",
       "        vertical-align: top;\n",
       "    }\n",
       "\n",
       "    .dataframe thead th {\n",
       "        text-align: right;\n",
       "    }\n",
       "</style>\n",
       "<table border=\"1\" class=\"dataframe\">\n",
       "  <thead>\n",
       "    <tr style=\"text-align: right;\">\n",
       "      <th></th>\n",
       "      <th>income</th>\n",
       "      <th>kidhome</th>\n",
       "      <th>teenhome</th>\n",
       "      <th>recency</th>\n",
       "      <th>mntwines</th>\n",
       "      <th>mntfruits</th>\n",
       "      <th>mntmeatproducts</th>\n",
       "      <th>mntfishproducts</th>\n",
       "      <th>mntsweetproducts</th>\n",
       "      <th>mntgoldprods</th>\n",
       "      <th>numdealspurchases</th>\n",
       "      <th>numwebpurchases</th>\n",
       "      <th>numcatalogpurchases</th>\n",
       "      <th>numstorepurchases</th>\n",
       "      <th>numwebvisitsmonth</th>\n",
       "      <th>acceptedcmp3</th>\n",
       "      <th>acceptedcmp4</th>\n",
       "      <th>acceptedcmp5</th>\n",
       "      <th>acceptedcmp1</th>\n",
       "      <th>acceptedcmp2</th>\n",
       "      <th>complain</th>\n",
       "      <th>response</th>\n",
       "      <th>age</th>\n",
       "      <th>education_encoded</th>\n",
       "      <th>marital_status_encoded</th>\n",
       "      <th>age_encoded</th>\n",
       "      <th>client_days_encoded</th>\n",
       "      <th>recency_encoded</th>\n",
       "    </tr>\n",
       "  </thead>\n",
       "  <tbody>\n",
       "    <tr>\n",
       "      <th>0</th>\n",
       "      <td>0.084832</td>\n",
       "      <td>0.0</td>\n",
       "      <td>0.0</td>\n",
       "      <td>0.585859</td>\n",
       "      <td>0.425318</td>\n",
       "      <td>0.442211</td>\n",
       "      <td>0.316522</td>\n",
       "      <td>0.664093</td>\n",
       "      <td>0.334601</td>\n",
       "      <td>0.243094</td>\n",
       "      <td>0.200000</td>\n",
       "      <td>0.296296</td>\n",
       "      <td>0.357143</td>\n",
       "      <td>0.307692</td>\n",
       "      <td>0.35</td>\n",
       "      <td>0</td>\n",
       "      <td>0</td>\n",
       "      <td>0</td>\n",
       "      <td>0</td>\n",
       "      <td>0</td>\n",
       "      <td>0</td>\n",
       "      <td>1</td>\n",
       "      <td>0.378641</td>\n",
       "      <td>2</td>\n",
       "      <td>4</td>\n",
       "      <td>2</td>\n",
       "      <td>3</td>\n",
       "      <td>2</td>\n",
       "    </tr>\n",
       "    <tr>\n",
       "      <th>1</th>\n",
       "      <td>0.067095</td>\n",
       "      <td>0.5</td>\n",
       "      <td>0.5</td>\n",
       "      <td>0.383838</td>\n",
       "      <td>0.007368</td>\n",
       "      <td>0.005025</td>\n",
       "      <td>0.003478</td>\n",
       "      <td>0.007722</td>\n",
       "      <td>0.003802</td>\n",
       "      <td>0.016575</td>\n",
       "      <td>0.133333</td>\n",
       "      <td>0.037037</td>\n",
       "      <td>0.035714</td>\n",
       "      <td>0.153846</td>\n",
       "      <td>0.25</td>\n",
       "      <td>0</td>\n",
       "      <td>0</td>\n",
       "      <td>0</td>\n",
       "      <td>0</td>\n",
       "      <td>0</td>\n",
       "      <td>0</td>\n",
       "      <td>0</td>\n",
       "      <td>0.407767</td>\n",
       "      <td>2</td>\n",
       "      <td>4</td>\n",
       "      <td>2</td>\n",
       "      <td>0</td>\n",
       "      <td>1</td>\n",
       "    </tr>\n",
       "    <tr>\n",
       "      <th>2</th>\n",
       "      <td>0.105097</td>\n",
       "      <td>0.0</td>\n",
       "      <td>0.0</td>\n",
       "      <td>0.262626</td>\n",
       "      <td>0.285332</td>\n",
       "      <td>0.246231</td>\n",
       "      <td>0.073623</td>\n",
       "      <td>0.428571</td>\n",
       "      <td>0.079848</td>\n",
       "      <td>0.116022</td>\n",
       "      <td>0.066667</td>\n",
       "      <td>0.296296</td>\n",
       "      <td>0.071429</td>\n",
       "      <td>0.769231</td>\n",
       "      <td>0.20</td>\n",
       "      <td>0</td>\n",
       "      <td>0</td>\n",
       "      <td>0</td>\n",
       "      <td>0</td>\n",
       "      <td>0</td>\n",
       "      <td>0</td>\n",
       "      <td>0</td>\n",
       "      <td>0.300971</td>\n",
       "      <td>2</td>\n",
       "      <td>5</td>\n",
       "      <td>1</td>\n",
       "      <td>1</td>\n",
       "      <td>1</td>\n",
       "    </tr>\n",
       "    <tr>\n",
       "      <th>3</th>\n",
       "      <td>0.037471</td>\n",
       "      <td>0.5</td>\n",
       "      <td>0.0</td>\n",
       "      <td>0.262626</td>\n",
       "      <td>0.007368</td>\n",
       "      <td>0.020101</td>\n",
       "      <td>0.011594</td>\n",
       "      <td>0.038610</td>\n",
       "      <td>0.011407</td>\n",
       "      <td>0.013812</td>\n",
       "      <td>0.133333</td>\n",
       "      <td>0.074074</td>\n",
       "      <td>0.000000</td>\n",
       "      <td>0.307692</td>\n",
       "      <td>0.30</td>\n",
       "      <td>0</td>\n",
       "      <td>0</td>\n",
       "      <td>0</td>\n",
       "      <td>0</td>\n",
       "      <td>0</td>\n",
       "      <td>0</td>\n",
       "      <td>0</td>\n",
       "      <td>0.116505</td>\n",
       "      <td>2</td>\n",
       "      <td>5</td>\n",
       "      <td>0</td>\n",
       "      <td>0</td>\n",
       "      <td>1</td>\n",
       "    </tr>\n",
       "    <tr>\n",
       "      <th>4</th>\n",
       "      <td>0.085065</td>\n",
       "      <td>0.5</td>\n",
       "      <td>0.0</td>\n",
       "      <td>0.949495</td>\n",
       "      <td>0.115874</td>\n",
       "      <td>0.216080</td>\n",
       "      <td>0.068406</td>\n",
       "      <td>0.177606</td>\n",
       "      <td>0.102662</td>\n",
       "      <td>0.041436</td>\n",
       "      <td>0.333333</td>\n",
       "      <td>0.185185</td>\n",
       "      <td>0.107143</td>\n",
       "      <td>0.461538</td>\n",
       "      <td>0.25</td>\n",
       "      <td>0</td>\n",
       "      <td>0</td>\n",
       "      <td>0</td>\n",
       "      <td>0</td>\n",
       "      <td>0</td>\n",
       "      <td>0</td>\n",
       "      <td>0</td>\n",
       "      <td>0.145631</td>\n",
       "      <td>4</td>\n",
       "      <td>3</td>\n",
       "      <td>1</td>\n",
       "      <td>0</td>\n",
       "      <td>3</td>\n",
       "    </tr>\n",
       "  </tbody>\n",
       "</table>\n",
       "</div>"
      ],
      "text/plain": [
       "     income  kidhome  teenhome   recency  mntwines  mntfruits  \\\n",
       "0  0.084832      0.0       0.0  0.585859  0.425318   0.442211   \n",
       "1  0.067095      0.5       0.5  0.383838  0.007368   0.005025   \n",
       "2  0.105097      0.0       0.0  0.262626  0.285332   0.246231   \n",
       "3  0.037471      0.5       0.0  0.262626  0.007368   0.020101   \n",
       "4  0.085065      0.5       0.0  0.949495  0.115874   0.216080   \n",
       "\n",
       "   mntmeatproducts  mntfishproducts  mntsweetproducts  mntgoldprods  \\\n",
       "0         0.316522         0.664093          0.334601      0.243094   \n",
       "1         0.003478         0.007722          0.003802      0.016575   \n",
       "2         0.073623         0.428571          0.079848      0.116022   \n",
       "3         0.011594         0.038610          0.011407      0.013812   \n",
       "4         0.068406         0.177606          0.102662      0.041436   \n",
       "\n",
       "   numdealspurchases  numwebpurchases  numcatalogpurchases  numstorepurchases  \\\n",
       "0           0.200000         0.296296             0.357143           0.307692   \n",
       "1           0.133333         0.037037             0.035714           0.153846   \n",
       "2           0.066667         0.296296             0.071429           0.769231   \n",
       "3           0.133333         0.074074             0.000000           0.307692   \n",
       "4           0.333333         0.185185             0.107143           0.461538   \n",
       "\n",
       "   numwebvisitsmonth  acceptedcmp3  acceptedcmp4  acceptedcmp5  acceptedcmp1  \\\n",
       "0               0.35             0             0             0             0   \n",
       "1               0.25             0             0             0             0   \n",
       "2               0.20             0             0             0             0   \n",
       "3               0.30             0             0             0             0   \n",
       "4               0.25             0             0             0             0   \n",
       "\n",
       "   acceptedcmp2  complain  response       age  education_encoded  \\\n",
       "0             0         0         1  0.378641                  2   \n",
       "1             0         0         0  0.407767                  2   \n",
       "2             0         0         0  0.300971                  2   \n",
       "3             0         0         0  0.116505                  2   \n",
       "4             0         0         0  0.145631                  4   \n",
       "\n",
       "   marital_status_encoded  age_encoded  client_days_encoded  recency_encoded  \n",
       "0                       4            2                    3                2  \n",
       "1                       4            2                    0                1  \n",
       "2                       5            1                    1                1  \n",
       "3                       5            0                    0                1  \n",
       "4                       3            1                    0                3  "
      ]
     },
     "execution_count": 20,
     "metadata": {},
     "output_type": "execute_result"
    }
   ],
   "source": [
    "df.head()"
   ]
  },
  {
   "cell_type": "markdown",
   "id": "0abe5577",
   "metadata": {},
   "source": [
    "### Data transformation"
   ]
  },
  {
   "cell_type": "code",
   "execution_count": 17,
   "id": "358e2805",
   "metadata": {},
   "outputs": [],
   "source": [
    "continuos_columns = ['income','kidhome', 'teenhome', \n",
    "                     'recency', 'mntwines', 'numwebvisitsmonth',\n",
    "                     'mntfruits', 'mntmeatproducts', 'mntfishproducts',\n",
    "                     'mntsweetproducts', 'mntgoldprods', 'numdealspurchases',\n",
    "                     'numwebpurchases', 'numcatalogpurchases', 'numstorepurchases',\n",
    "                     'age']\n",
    "\n",
    "categorical_columns = ['acceptedcmp1', 'acceptedcmp2','acceptedcmp3', \n",
    "                       'acceptedcmp4', 'acceptedcmp5', 'education_encoded',\n",
    "                       'response', 'recency_encoded', 'marital_status_encoded',\n",
    "                       'client_days_encoded', 'age_encoded']"
   ]
  },
  {
   "cell_type": "code",
   "execution_count": 18,
   "id": "c93e1b40",
   "metadata": {},
   "outputs": [],
   "source": [
    "scaler = preprocessing.MinMaxScaler()\n",
    "\n",
    "\n",
    "for col in continuos_columns:\n",
    "    df[col] = scaler.fit_transform(df[[col]])"
   ]
  },
  {
   "cell_type": "code",
   "execution_count": 19,
   "id": "adc68f98",
   "metadata": {},
   "outputs": [
    {
     "data": {
      "text/plain": [
       "income                    float64\n",
       "kidhome                   float64\n",
       "teenhome                  float64\n",
       "recency                   float64\n",
       "mntwines                  float64\n",
       "mntfruits                 float64\n",
       "mntmeatproducts           float64\n",
       "mntfishproducts           float64\n",
       "mntsweetproducts          float64\n",
       "mntgoldprods              float64\n",
       "numdealspurchases         float64\n",
       "numwebpurchases           float64\n",
       "numcatalogpurchases       float64\n",
       "numstorepurchases         float64\n",
       "numwebvisitsmonth         float64\n",
       "acceptedcmp3                int64\n",
       "acceptedcmp4                int64\n",
       "acceptedcmp5                int64\n",
       "acceptedcmp1                int64\n",
       "acceptedcmp2                int64\n",
       "complain                    int64\n",
       "response                    int64\n",
       "age                       float64\n",
       "education_encoded           int64\n",
       "marital_status_encoded      int64\n",
       "age_encoded                 int64\n",
       "client_days_encoded         int64\n",
       "recency_encoded             int64\n",
       "dtype: object"
      ]
     },
     "execution_count": 19,
     "metadata": {},
     "output_type": "execute_result"
    }
   ],
   "source": [
    "df.dtypes"
   ]
  },
  {
   "cell_type": "markdown",
   "id": "12541baa",
   "metadata": {},
   "source": [
    "### Split train and test"
   ]
  },
  {
   "cell_type": "code",
   "execution_count": 28,
   "id": "baf6a25b",
   "metadata": {},
   "outputs": [
    {
     "name": "stderr",
     "output_type": "stream",
     "text": [
      "/tmp/ipykernel_814654/3837332571.py:2: FutureWarning: In a future version of pandas all arguments of DataFrame.drop except for the argument 'labels' will be keyword-only.\n",
      "  X = df.drop('response', 1).values\n"
     ]
    }
   ],
   "source": [
    "y = df[['response']].values\n",
    "X = df.drop('response', 1).values"
   ]
  },
  {
   "cell_type": "code",
   "execution_count": 31,
   "id": "8883bf3a",
   "metadata": {},
   "outputs": [],
   "source": [
    "X_train, X_test, y_train, y_test = train_test_split(X , y, test_size = 0.30, random_state=seed)"
   ]
  },
  {
   "cell_type": "markdown",
   "id": "e0d1c9f3",
   "metadata": {},
   "source": [
    "### Models"
   ]
  },
  {
   "cell_type": "code",
   "execution_count": 62,
   "id": "bda2c088",
   "metadata": {},
   "outputs": [
    {
     "name": "stdout",
     "output_type": "stream",
     "text": [
      "              precision    recall  f1-score   support\n",
      "\n",
      "           0       0.90      0.97      0.94       577\n",
      "           1       0.68      0.34      0.45        95\n",
      "\n",
      "    accuracy                           0.88       672\n",
      "   macro avg       0.79      0.66      0.69       672\n",
      "weighted avg       0.87      0.88      0.87       672\n",
      "\n"
     ]
    },
    {
     "name": "stderr",
     "output_type": "stream",
     "text": [
      "/home/guilherme.gomes/.local/lib/python3.8/site-packages/sklearn/utils/validation.py:993: DataConversionWarning: A column-vector y was passed when a 1d array was expected. Please change the shape of y to (n_samples, ), for example using ravel().\n",
      "  y = column_or_1d(y, warn=True)\n"
     ]
    }
   ],
   "source": [
    "logist_regression = LogisticRegression(random_state = seed, solver='liblinear')\n",
    "logist_regression.fit(X_train, y_train)\n",
    "y_predicted = logist_regression.predict(X_test)\n",
    "print(classification_report(y_test, y_predicted));\n",
    "joblib.dump(logist_regression, 'datalake/model/logist_regression.joblib');"
   ]
  },
  {
   "cell_type": "code",
   "execution_count": 60,
   "id": "e4735986",
   "metadata": {},
   "outputs": [
    {
     "name": "stderr",
     "output_type": "stream",
     "text": [
      "/home/guilherme.gomes/.local/lib/python3.8/site-packages/sklearn/utils/deprecation.py:87: FutureWarning: Function plot_confusion_matrix is deprecated; Function `plot_confusion_matrix` is deprecated in 1.0 and will be removed in 1.2. Use one of the class methods: ConfusionMatrixDisplay.from_predictions or ConfusionMatrixDisplay.from_estimator.\n",
      "  warnings.warn(msg, category=FutureWarning)\n"
     ]
    },
    {
     "data": {
      "image/png": "[encoded data removed]",
      "text/plain": [
       "<Figure size 432x288 with 2 Axes>"
      ]
     },
     "metadata": {
      "needs_background": "light"
     },
     "output_type": "display_data"
    },
    {
     "data": {
      "image/png": "[encoded data removed]",
      "text/plain": [
       "<Figure size 432x288 with 2 Axes>"
      ]
     },
     "metadata": {
      "needs_background": "light"
     },
     "output_type": "display_data"
    }
   ],
   "source": [
    "plot_confusion_matrix(logist_regression, X_test, y_test, normalize='true').plot();"
   ]
  },
  {
   "cell_type": "code",
   "execution_count": 66,
   "id": "f51d38fb",
   "metadata": {},
   "outputs": [
    {
     "data": {
      "text/plain": [
       "response\n",
       "0    1906\n",
       "1     334\n",
       "Name: income, dtype: int64"
      ]
     },
     "execution_count": 66,
     "metadata": {},
     "output_type": "execute_result"
    }
   ],
   "source": [
    "df.groupby('response')['income'].count()"
   ]
  },
  {
   "cell_type": "code",
   "execution_count": 73,
   "id": "3dbc570f",
   "metadata": {},
   "outputs": [
    {
     "name": "stdout",
     "output_type": "stream",
     "text": [
      "Counter({0: 625, 1: 47})\n"
     ]
    }
   ],
   "source": [
    "import collections\n",
    "\n",
    "counter=collections.Counter(y_predicted)\n",
    "\n",
    "print(counter)"
   ]
  }
 ],
 "metadata": {
  "kernelspec": {
   "display_name": "Python 3 (ipykernel)",
   "language": "python",
   "name": "python3"
  },
  "language_info": {
   "codemirror_mode": {
    "name": "ipython",
    "version": 3
   },
   "file_extension": ".py",
   "mimetype": "text/x-python",
   "name": "python",
   "nbconvert_exporter": "python",
   "pygments_lexer": "ipython3",
   "version": "3.8.10"
  }
 },
 "nbformat": 4,
 "nbformat_minor": 5
}
